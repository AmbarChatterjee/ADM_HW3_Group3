{
  "nbformat": 4,
  "nbformat_minor": 0,
  "metadata": {
    "colab": {
      "provenance": []
    },
    "kernelspec": {
      "name": "python3",
      "display_name": "Python 3"
    },
    "language_info": {
      "name": "python"
    }
  },
  "cells": [
    {
      "cell_type": "markdown",
      "source": [
        "##1. Data collection\n",
        "For this homework, there is no provided dataset. Instead, you have to build your own. Your search engine will run on text documents. So, here we detail the procedure to follow for the data collection. We strongly suggest you work on different modules when implementing the required functions. For example, you may have a crawler.py module, a parser.py module, and a engine.py module: this is a good practice that improves readability in reporting and efficiency in deploying the code. Be careful; you are likely dealing with exceptions and other possible issues!"
      ],
      "metadata": {
        "id": "KGkhoku_QJtZ"
      }
    },
    {
      "cell_type": "markdown",
      "source": [
        "###1.1. Get the list of master's degree courses\n",
        "We start with the list of courses to include in your corpus of documents. In particular, we focus on web scrapping the MSc Degrees. Next, we want you to collect the URL associated with each site in the list from the previously collected list. The list is long and split into many pages. Therefore, we ask you to retrieve only the URLs of the places listed in the first 400 pages (each page has 15 courses, so you will end up with 6000 unique master's degree URLs).\n",
        "\n",
        "The output of this step is a .txt file whose single line corresponds to the master's URL."
      ],
      "metadata": {
        "id": "bHk9J6jDQP4Z"
      }
    },
    {
      "cell_type": "code",
      "execution_count": null,
      "metadata": {
        "id": "miz0xb3JOlvf"
      },
      "outputs": [],
      "source": [
        "import requests\n",
        "from datetime import datetime\n",
        "from bs4 import BeautifulSoup\n",
        "import pandas as pd\n",
        "from  tqdm import tqdm\n",
        "import time\n",
        "import re\n",
        "import csv"
      ]
    },
    {
      "cell_type": "code",
      "execution_count": null,
      "metadata": {
        "colab": {
          "base_uri": "https://localhost:8080/"
        },
        "id": "hgmAbNbZM0Ns",
        "outputId": "c17ffff5-19e9-4e95-8dd1-2179359ed6d0"
      },
      "outputs": [
        {
          "name": "stderr",
          "output_type": "stream",
          "text": [
            "100%|██████████| 400/400 [19:45<00:00,  2.96s/it]\n"
          ]
        }
      ],
      "source": [
        "master_urls = [] #we create an empty list to which we will append the urls we get\n",
        "for i in tqdm(range(1,401)):\n",
        "\n",
        "    #We change along the first 400 pages and request via their urls\n",
        "    url='https://www.findamasters.com/masters-degrees/msc-degrees?page='+str(i)\n",
        "    result=requests.get(url)\n",
        "    soup=BeautifulSoup(result.text,'html.parser')\n",
        "\n",
        "    try:\n",
        "         # Find and extract the URLs of master's degree courses\n",
        "        course_links = soup.find_all('a', class_='courseLink text-dark')\n",
        "        for link in course_links:\n",
        "            course_url = link.get('href')\n",
        "            master_urls.append('https://www.findamasters.com'+course_url)\n",
        "\n",
        "        #To conclude, we save it in a .txt file with all the urls of the courses\n",
        "        with open('urls.txt', 'w') as file:\n",
        "          for url in master_urls:\n",
        "            file.write(url + '\\n')\n",
        "    except:\n",
        "        pass\n",
        "    # This will leave a second between each iteration so we do not get banned from the website\n",
        "    time.sleep(1)"
      ]
    },
    {
      "cell_type": "markdown",
      "source": [
        "*As you can see, we used beautiful soup to do the webscraping and added a delay time to prevent our IP from being blocked by the website. After the scraping, we saved the urls in a urls.txt file so that we just need to do this process once in the beginning of the project. As there are 400 pages with 15 master degree urls each, our txt file got 6000 unique urls to deal with.*"
      ],
      "metadata": {
        "id": "KIbuBOQHPSrF"
      }
    },
    {
      "cell_type": "markdown",
      "source": [
        "###1.2. Crawl master's degree pages\n",
        "Once you get all the URLs in the first 400 pages of the list, you:\n",
        "\n",
        "Download the HTML corresponding to each of the collected URLs.\n",
        "After you collect a single page, immediately save its HTML in a file. In this way, if your program stops for any reason, you will not lose the data collected up to the stopping point.\n",
        "Organize the downloaded HTML pages into folders. Each folder will contain the HTML of the courses on page 1, page 2, ... of the list of master's programs."
      ],
      "metadata": {
        "id": "H4oZTfL8gpXc"
      }
    },
    {
      "cell_type": "code",
      "source": [
        "import os\n",
        "#We first read the lines of the file with the urls\n",
        "archive=open('urls.txt')\n",
        "urls=archive.readlines()\n",
        "# Create an output folder if it doesn't exist\n",
        "output_folder = 'newFolderHTML'\n",
        "os.makedirs(output_folder, exist_ok=True)\n",
        "#We do this so we only need to acces the webpage once to get all the data and not enter it 15*400=6000 times\n",
        "\n",
        "for i in tqdm(range(len(urls))):\n",
        "    #We only need the urls, not the '\\n'\n",
        "    link=urls[i].strip()\n",
        "    #we get the html within the same session\n",
        "    html=requests.get(link)\n",
        "    #and write it in differents files\n",
        "    # Create the output file path in the output folder\n",
        "    output_file = os.path.join(output_folder, f'Html-{i+1}.txt')\n",
        "    with open(output_file,'a') as doc:\n",
        "        doc.write(html.text)\n",
        "    time.sleep(1)"
      ],
      "metadata": {
        "colab": {
          "base_uri": "https://localhost:8080/"
        },
        "id": "5bx6bCD8KLcI",
        "outputId": "ab3766aa-d8b3-4d75-eec7-5fdf24bb9213"
      },
      "execution_count": null,
      "outputs": [
        {
          "output_type": "stream",
          "name": "stderr",
          "text": [
            "100%|██████████| 6000/6000 [2:18:18<00:00,  1.38s/it]\n"
          ]
        }
      ]
    },
    {
      "cell_type": "markdown",
      "source": [
        "Now we are crawling over the master degree course pages from the urls.txt file we already have in our directory. We created an output_folder by the name 'newFolderHTML' where we have stored each of the HTMl files we get from the 6000 URLs with the name- Html-1.txt, Html-2.txt unitl ...Html-6000.txt. We will use this folder of HTMls to do the next question..."
      ],
      "metadata": {
        "id": "J7taQQAEg6d8"
      }
    },
    {
      "cell_type": "markdown",
      "source": [
        "###1.3 Parse downloaded pages\n",
        "At this point, you should have all the HTML documents about the master's degree of interest, and you can start to extract specific information. The list of the information we desire for each course and their format is as follows:\n",
        "\n",
        "Course Name (to save as courseName): string;\n",
        "University (to save as universityName): string;\n",
        "Faculty (to save as facultyName): string\n",
        "Full or Part Time (to save as isItFullTime): string;\n",
        "Short Description (to save as description): string;\n",
        "Start Date (to save as startDate): string;\n",
        "Fees (to save as fees): string;\n",
        "Modality (to save as modality):string;\n",
        "Duration (to save as duration):string;\n",
        "City (to save as city): string;\n",
        "Country (to save as country): string;\n",
        "Presence or online modality (to save as administration): string;\n",
        "Link to the page (to save as url): string.\n",
        "\n",
        "For each master's degree, you create a course_i.tsv file of this structure:\n",
        "\n",
        "courseName \\t universityName \\t  ... \\t url"
      ],
      "metadata": {
        "id": "og3VlYEZiJoo"
      }
    },
    {
      "cell_type": "markdown",
      "source": [
        "*To parse all the 6000 HTML documents from the HTML folder, we define a generic function that will scoop out the required specific information (if present) from the corresponding HTML files and then we call the function with the html folder name and the tsv output folder name*\n",
        "\n",
        "*Our function takes three parameters: the html folder name, folder name to put the .tsv files inside and the urls.txt file that has the 6000 urls. Based on those 60000 urls, the function fetches the Html-i.txt file from the html folder corresponding to ith Url of the Urls.txt and scoops the information of course, university, faculty, etc using beautiful soup. It creates two rows, one as the header rows with the column names and another has the data rows with the column data and creates a course-i.tsv file with that in the tsv output folder.*"
      ],
      "metadata": {
        "id": "jYYwaZDUiUXj"
      }
    },
    {
      "cell_type": "code",
      "source": [
        "import os\n",
        "from bs4 import BeautifulSoup\n",
        "\n",
        "def extract_course_info(html_folder, output_folder,  urls_file):\n",
        "    # Create the output folder if it doesn't exist\n",
        "    if not os.path.exists(output_folder):\n",
        "        os.makedirs(output_folder)\n",
        "    # Read the URLs from the URLs file\n",
        "    with open(urls_file, 'r', encoding='utf-8') as urls_file:\n",
        "        urls = urls_file.read().splitlines()\n",
        "    # Define column names\n",
        "    column_names = [\n",
        "        \"courseName\",\n",
        "        \"universityName\",\n",
        "        \"facultyName\",\n",
        "        \"isItFullTime\",\n",
        "        \"description\",\n",
        "        \"startDate\",\n",
        "        \"fees\",\n",
        "        \"modality\",\n",
        "        \"duration\",\n",
        "        \"city\",\n",
        "        \"country\",\n",
        "        \"administration\",\n",
        "        \"url\"\n",
        "    ]\n",
        "    # Create a header row in the TSV file\n",
        "    header_row = \"\\t\".join(column_names)\n",
        "\n",
        "    # Iterate through each HTML file\n",
        "    for i,url in enumerate(urls, start=1):\n",
        "        html_filename = os.path.join(html_folder, f'Html-{i}.txt')\n",
        "        output_filename = os.path.join(output_folder, f'course_{i}.tsv')\n",
        "\n",
        "        # Initialize variables to store extracted data\n",
        "        courseName = \"\"\n",
        "        universityName = \"\"\n",
        "        facultyName = \"\"\n",
        "        isItFullTime = \"\"\n",
        "        description = \"\"\n",
        "        startDate = \"\"\n",
        "        fees = \"\"\n",
        "        modality = \"\"\n",
        "        duration = \"\"\n",
        "        city = \"\"\n",
        "        country = \"\"\n",
        "        administration = \"\"\n",
        "\n",
        "\n",
        "        with open(html_filename, 'r', encoding='utf-8') as html_file:\n",
        "            html_content = html_file.read()\n",
        "\n",
        "            # Use BeautifulSoup to parse the HTML\n",
        "            soup = BeautifulSoup(html_content, 'html.parser')\n",
        "\n",
        "            # Extract the courseName\n",
        "            courseName_element = soup.find('h1', class_='text-white course-header__course-title')\n",
        "            if courseName_element:\n",
        "                courseName = courseName_element.get_text(strip=True)\n",
        "\n",
        "            # Extract the universityName and facultyName\n",
        "            inst_dept_element = soup.find('h3', class_='h5 course-header__inst-dept')\n",
        "            if inst_dept_element:\n",
        "                institution_element = inst_dept_element.find('a', class_='course-header__institution')\n",
        "                department_element = inst_dept_element.find('a', class_='course-header__department')\n",
        "\n",
        "                if institution_element:\n",
        "                    universityName = institution_element.get_text(strip=True)\n",
        "                if department_element:\n",
        "                    facultyName = department_element.get_text(strip=True)\n",
        "\n",
        "            # Extract additional information\n",
        "            key_info_elements = soup.find('div', class_='key-info__outer')\n",
        "            if key_info_elements:\n",
        "              fulltime_element=key_info_elements.find('span',class_='key-info__study-type')\n",
        "              startdate_element=key_info_elements.find('span',class_='key-info__start-date')\n",
        "              modality_element=key_info_elements.find('span',class_='key-info__qualification')\n",
        "              duration_element=key_info_elements.find('span',class_='key-info__duration')\n",
        "              if fulltime_element:\n",
        "                isItFullTime=soup.find('span', class_='key-info__study-type').get_text(strip=True)\n",
        "              if startdate_element:\n",
        "                startDate=soup.find('span', class_='key-info__start-date').get_text(strip=True)\n",
        "              if modality_element:\n",
        "                modality=soup.find('span', class_='key-info__qualification').get_text(strip=True)\n",
        "              if duration_element:\n",
        "                duration=soup.find('span', class_='key-info__duration').get_text(strip=True)\n",
        "\n",
        "\n",
        "            #Extract the geographical information\n",
        "            course_data_element=soup.find('div',class_='course-data__container col-24 ml-md-n1 p-0 pb-3')\n",
        "            if course_data_element:\n",
        "                city_element=course_data_element.find('a',class_='course-data__city')\n",
        "                country_element=course_data_element.find('a',class_='course-data__country')\n",
        "                admin_element=course_data_element.find('a',class_='course-data__on-campus')\n",
        "                if city_element:\n",
        "                  city=city_element.get_text(strip=True)\n",
        "                if country_element:\n",
        "                  country=country_element.get_text(strip=True)\n",
        "                if admin_element:\n",
        "                  administration=admin_element.get_text(strip=True)\n",
        "\n",
        "            # Extract fees information\n",
        "            fees_element = soup.find('div', class_='course-sections__fees')\n",
        "            if fees_element:\n",
        "                fees_paragraph = fees_element.find('p')\n",
        "                if fees_paragraph:\n",
        "                    fees_text = fees_paragraph.get_text(strip=True)\n",
        "                    if \"Please see the university website for further information on fees for this course.\" not in fees_text:\n",
        "                        fees = fees_text\n",
        "            # Extract description information\n",
        "            description_element = soup.find('div', class_='course-sections__description')\n",
        "            if description_element:\n",
        "                description_paragraph = description_element.find('p')\n",
        "                if description_paragraph:\n",
        "                    description_text = description_paragraph.get_text(strip=True)\n",
        "                    description = description_text\n",
        "        # Write the extracted data to a TSV file\n",
        "        with open(output_filename, 'w', encoding='utf-8') as output_file:\n",
        "            output_file.write(header_row + \"\\n\")  # Write the header row\n",
        "            data_row = \"\\t\".join([\n",
        "                courseName,\n",
        "                universityName,\n",
        "                facultyName,\n",
        "                isItFullTime,\n",
        "                description,\n",
        "                startDate,\n",
        "                fees,\n",
        "                modality,\n",
        "                duration,\n",
        "                city,\n",
        "                country,\n",
        "                administration,\n",
        "                url\n",
        "            ])\n",
        "            output_file.write(data_row)"
      ],
      "metadata": {
        "id": "tRnsbkIciBS_"
      },
      "execution_count": null,
      "outputs": []
    },
    {
      "cell_type": "code",
      "source": [
        "# Specify the folder containing the HTML files and the output folder for TSV files and the urls.txt file\n",
        "urls_file = 'urls.txt'\n",
        "html_folder = 'newFolderHTML'\n",
        "output_folder = 'folderTSV'\n",
        "\n",
        "# now we call the function to extract course information\n",
        "extract_course_info(html_folder, output_folder, urls_file)"
      ],
      "metadata": {
        "id": "pcNthYoSkfRc"
      },
      "execution_count": null,
      "outputs": []
    },
    {
      "cell_type": "markdown",
      "source": [
        "*after this, all the necessary course_1.tsv, course_2.tsv,....,course_6000.tsv are now in the 'folderTSV'*"
      ],
      "metadata": {
        "id": "4V_f0L8dlHNE"
      }
    },
    {
      "cell_type": "markdown",
      "source": [
        "This is the end of the data collection process. We have scraped the 400 pages of the degree pages website to get 6000 urls and crawled over those urls to download the HTML of each and then using beautiful soup we extracted all the information we are interested in from the 6000 urls and created 6000 Tab Separated Value (.tsv) files inside another folder. The most time consuming of all was the downloading of the HTML files looking at each of the 6000 urls. With a waiting time of 1 second, it took around 1.5 to 2 hours and with a waiting time of 2 seconds, it took double the time. The problem is, if we don't put a wait time of 2 seconds, some of the urls are not loading within that 1 second threshold, because of too many requests being provided, the website is blocking the IP address. This initially resulted in blank HTML files being downloaded for those few URLS. But with a waiting time of 2 seconds, the problem could be averted, and each of the 6000 HTML was correct. Only that we had to fragment the range of the urls.txt list we were using. Initially ran, with a range 1 to 1000, then reran with 10001 to 3000 and a last run with 30001 to 6000, actually averted the issue. To speed up the process, I employed multi-threading, but it scraped the 6000 pages in 1 minute and only downloaded 100 HTMl items with maximum 50 threads. As the load is quite high, 6000, the threads needs to be higher, but it means a considerable load on the server resulting in IP blocking again. Hence, I had to drop that idea and do it the normal way, trading off time consumption with accuracy. It took 4 hours to run, but at the end, I got all the 6000 HTMLs correctly.\n",
        "\n",
        "My conclusion is: the webscraping is not so optimised with the beautiful soup framework. Perhaps, we can have a look at an alternative framework that is more optimised and meant for this purpose. For example: scrapy."
      ],
      "metadata": {
        "id": "uAX03LZvrxsx"
      }
    }
  ]
}