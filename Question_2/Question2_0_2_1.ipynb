{
  "cells": [
    {
      "cell_type": "markdown",
      "source": [
        "##2. Search Engine"
      ],
      "metadata": {
        "id": "-NM_W4zMVL56"
      }
    },
    {
      "cell_type": "markdown",
      "source": [
        "I have put my custom functions in functions.py and the search engine function in searchEngine.py and I am importing them in the beginning here:"
      ],
      "metadata": {
        "id": "SEFOXyI6VP7u"
      }
    },
    {
      "cell_type": "code",
      "execution_count": null,
      "metadata": {
        "id": "tT2XEF6yUmXG"
      },
      "outputs": [],
      "source": [
        "import requests\n",
        "from datetime import datetime\n",
        "from bs4 import BeautifulSoup\n",
        "import pandas as pd\n",
        "from  tqdm import tqdm\n",
        "import time\n",
        "import re\n",
        "import csv\n",
        "import os\n",
        "import pandas as pd\n",
        "import functions as f\n",
        "from functions import extract_fees\n",
        "from functions import preprocess_text\n",
        "from functions import get__currency_rates_api\n",
        "from functions import convert_currency\n",
        "from searchEngine import conjunction_search"
      ]
    },
    {
      "cell_type": "markdown",
      "source": [
        "Before starting with the question, I have loaded all the 6000 TSV files into one dataframe using my TSV_to_dataframe function in the functions.py:"
      ],
      "metadata": {
        "id": "Lx9r1NCYVnCF"
      }
    },
    {
      "cell_type": "code",
      "execution_count": null,
      "metadata": {
        "id": "8Ktq5kCDUmXK"
      },
      "outputs": [],
      "source": [
        "column_names = [\n",
        "    \"courseName\",\n",
        "    \"universityName\",\n",
        "    \"facultyName\",\n",
        "    \"isItFullTime\",\n",
        "    \"description\",\n",
        "    \"startDate\",\n",
        "    \"fees\",\n",
        "    \"modality\",\n",
        "    \"duration\",\n",
        "    \"city\",\n",
        "    \"country\",\n",
        "    \"administration\",\n",
        "    \"url\"\n",
        "]\n",
        "\n",
        "folder_name = 'folderTSV'\n",
        "num_files = 6000\n",
        "\n",
        "courses_df = f.TSV_to_dataframe(column_names, folder_name, num_files)"
      ]
    },
    {
      "cell_type": "code",
      "execution_count": null,
      "metadata": {
        "id": "bB4RBTpkUmXK",
        "outputId": "485439ba-1ccf-42a9-a6f1-c8989c4d505a"
      },
      "outputs": [
        {
          "data": {
            "text/plain": [
              "6000"
            ]
          },
          "execution_count": 3,
          "metadata": {},
          "output_type": "execute_result"
        }
      ],
      "source": [
        "courses_df.shape[0]"
      ]
    },
    {
      "cell_type": "code",
      "execution_count": null,
      "metadata": {
        "id": "Ryr83mdSwd2F",
        "outputId": "62ea151e-9c66-4096-f3df-ddee8f7f2394"
      },
      "outputs": [
        {
          "data": {
            "text/html": [
              "<div>\n",
              "<style scoped>\n",
              "    .dataframe tbody tr th:only-of-type {\n",
              "        vertical-align: middle;\n",
              "    }\n",
              "\n",
              "    .dataframe tbody tr th {\n",
              "        vertical-align: top;\n",
              "    }\n",
              "\n",
              "    .dataframe thead th {\n",
              "        text-align: right;\n",
              "    }\n",
              "</style>\n",
              "<table border=\"1\" class=\"dataframe\">\n",
              "  <thead>\n",
              "    <tr style=\"text-align: right;\">\n",
              "      <th></th>\n",
              "      <th>courseName</th>\n",
              "      <th>universityName</th>\n",
              "      <th>facultyName</th>\n",
              "      <th>isItFullTime</th>\n",
              "      <th>description</th>\n",
              "      <th>startDate</th>\n",
              "      <th>fees</th>\n",
              "      <th>modality</th>\n",
              "      <th>duration</th>\n",
              "      <th>city</th>\n",
              "      <th>country</th>\n",
              "      <th>administration</th>\n",
              "      <th>url</th>\n",
              "      <th>ProcessedDescription</th>\n",
              "      <th>currency</th>\n",
              "      <th>fees (EUR)</th>\n",
              "    </tr>\n",
              "  </thead>\n",
              "  <tbody>\n",
              "    <tr>\n",
              "      <th>0</th>\n",
              "      <td>3D Design for Virtual Environments - MSc</td>\n",
              "      <td>Glasgow Caledonian University</td>\n",
              "      <td>School of Engineering and Built Environment</td>\n",
              "      <td>Full time</td>\n",
              "      <td>3D visualisation and animation play a role in ...</td>\n",
              "      <td>September</td>\n",
              "      <td>NaN</td>\n",
              "      <td>MSc</td>\n",
              "      <td>1 year full-time</td>\n",
              "      <td>Glasgow</td>\n",
              "      <td>United Kingdom</td>\n",
              "      <td>On Campus</td>\n",
              "      <td>https://www.findamasters.com/masters-degrees/c...</td>\n",
              "      <td>3d visualis anim play role mani area popular m...</td>\n",
              "      <td>None</td>\n",
              "      <td>NaN</td>\n",
              "    </tr>\n",
              "    <tr>\n",
              "      <th>1</th>\n",
              "      <td>Accounting and Finance - MSc</td>\n",
              "      <td>University of Leeds</td>\n",
              "      <td>Leeds University Business School</td>\n",
              "      <td>Full time</td>\n",
              "      <td>Businesses and governments rely on sound finan...</td>\n",
              "      <td>September</td>\n",
              "      <td>34750.0</td>\n",
              "      <td>MSc</td>\n",
              "      <td>1 year full time</td>\n",
              "      <td>Leeds</td>\n",
              "      <td>United Kingdom</td>\n",
              "      <td>On Campus</td>\n",
              "      <td>https://www.findamasters.com/masters-degrees/c...</td>\n",
              "      <td>busi govern reli sound financi knowledg underp...</td>\n",
              "      <td>£</td>\n",
              "      <td>39700.67</td>\n",
              "    </tr>\n",
              "    <tr>\n",
              "      <th>2</th>\n",
              "      <td>Accounting, Accountability &amp; Financial Managem...</td>\n",
              "      <td>King’s College London</td>\n",
              "      <td>King’s Business School</td>\n",
              "      <td>Full time</td>\n",
              "      <td>Our Accounting, Accountability &amp; Financial Man...</td>\n",
              "      <td>September</td>\n",
              "      <td>NaN</td>\n",
              "      <td>MSc</td>\n",
              "      <td>1 year FT</td>\n",
              "      <td>London</td>\n",
              "      <td>United Kingdom</td>\n",
              "      <td>On Campus</td>\n",
              "      <td>https://www.findamasters.com/masters-degrees/c...</td>\n",
              "      <td>account account  financi manag msc cours provi...</td>\n",
              "      <td>None</td>\n",
              "      <td>NaN</td>\n",
              "    </tr>\n",
              "  </tbody>\n",
              "</table>\n",
              "</div>"
            ],
            "text/plain": [
              "                                          courseName  \\\n",
              "0           3D Design for Virtual Environments - MSc   \n",
              "1                       Accounting and Finance - MSc   \n",
              "2  Accounting, Accountability & Financial Managem...   \n",
              "\n",
              "                  universityName                                  facultyName  \\\n",
              "0  Glasgow Caledonian University  School of Engineering and Built Environment   \n",
              "1            University of Leeds             Leeds University Business School   \n",
              "2          King’s College London                       King’s Business School   \n",
              "\n",
              "  isItFullTime                                        description  startDate  \\\n",
              "0    Full time  3D visualisation and animation play a role in ...  September   \n",
              "1    Full time  Businesses and governments rely on sound finan...  September   \n",
              "2    Full time  Our Accounting, Accountability & Financial Man...  September   \n",
              "\n",
              "      fees modality          duration     city         country administration  \\\n",
              "0      NaN      MSc  1 year full-time  Glasgow  United Kingdom      On Campus   \n",
              "1  34750.0      MSc  1 year full time    Leeds  United Kingdom      On Campus   \n",
              "2      NaN      MSc         1 year FT   London  United Kingdom      On Campus   \n",
              "\n",
              "                                                 url  \\\n",
              "0  https://www.findamasters.com/masters-degrees/c...   \n",
              "1  https://www.findamasters.com/masters-degrees/c...   \n",
              "2  https://www.findamasters.com/masters-degrees/c...   \n",
              "\n",
              "                                ProcessedDescription currency fees (EUR)  \n",
              "0  3d visualis anim play role mani area popular m...     None        NaN  \n",
              "1  busi govern reli sound financi knowledg underp...        £   39700.67  \n",
              "2  account account  financi manag msc cours provi...     None        NaN  "
            ]
          },
          "execution_count": 9,
          "metadata": {},
          "output_type": "execute_result"
        }
      ],
      "source": [
        "courses_df.head(3)"
      ]
    },
    {
      "cell_type": "markdown",
      "source": [
        "###2.0 Preprocessing\n",
        "\n",
        "2.0.0 Preprocessing the text\n",
        "\n",
        "First, you must pre-process all the information collected for each MSc by:\n",
        "\n",
        "Removing stopwords\n",
        "Removing punctuation\n",
        "Stemming\n",
        "Anything else you think it's needed\n",
        "For this purpose, you can use the `nltk library.\n"
      ],
      "metadata": {
        "id": "i8OT5RmaWHlW"
      }
    },
    {
      "cell_type": "markdown",
      "source": [
        "I have built a function preprocess_text in the functions.py using nltk corpus stopwords and Porter stemmer. I am applying the function over each rows of the dataframe here and keeping the processed text of the description column in a new column in the dataframe:"
      ],
      "metadata": {
        "id": "Xk_PNddVWU7w"
      }
    },
    {
      "cell_type": "code",
      "execution_count": null,
      "metadata": {
        "id": "nSxcBMWXUmXL"
      },
      "outputs": [],
      "source": [
        "# Preprocess the 'description' column\n",
        "courses_df['ProcessedDescription'] = courses_df['description'].apply(preprocess_text)"
      ]
    },
    {
      "cell_type": "code",
      "execution_count": null,
      "metadata": {
        "id": "gkO0fvWQwd2G",
        "outputId": "0bf69a81-f793-430c-a83a-d52bd960fe11"
      },
      "outputs": [
        {
          "data": {
            "text/plain": [
              "description             The Analytical Toxicology MSc is a unique stud...\n",
              "ProcessedDescription    analyt toxicolog msc uniqu studi cours integr ...\n",
              "Name: 10, dtype: object"
            ]
          },
          "execution_count": 18,
          "metadata": {},
          "output_type": "execute_result"
        }
      ],
      "source": [
        "courses_df.loc[10,['description','ProcessedDescription']]"
      ]
    },
    {
      "cell_type": "markdown",
      "source": [
        "###2.0.1) Preprocessing the fees column\n",
        "Moreover, we want the field fees to collect numeric information. As you will see, you scraped textual information for this attribute in the dataset: sketch whatever method you need (using regex, for example, to find currency symbol) to collect information and, in case of multiple information, retrieve only the highest fees. Finally, once you have collected numerical information, you likely will have different currencies: this can be chaotic, so let chatGPT guide you in the choice and deployment of an API to convert this column to a common currency of your choice (it can be USD, EUR or whatever you want). Ultimately, you will have a float column renamed fees (CHOSEN COMMON CURRENCY)."
      ],
      "metadata": {
        "id": "Ck-rlKnQWyED"
      }
    },
    {
      "cell_type": "code",
      "execution_count": null,
      "metadata": {
        "id": "A9x_57Q3yHvj",
        "outputId": "bc8dbd99-6db3-49c0-9897-77e8c1fd084c"
      },
      "outputs": [
        {
          "data": {
            "text/html": [
              "<div>\n",
              "<style scoped>\n",
              "    .dataframe tbody tr th:only-of-type {\n",
              "        vertical-align: middle;\n",
              "    }\n",
              "\n",
              "    .dataframe tbody tr th {\n",
              "        vertical-align: top;\n",
              "    }\n",
              "\n",
              "    .dataframe thead th {\n",
              "        text-align: right;\n",
              "    }\n",
              "</style>\n",
              "<table border=\"1\" class=\"dataframe\">\n",
              "  <thead>\n",
              "    <tr style=\"text-align: right;\">\n",
              "      <th></th>\n",
              "      <th>fees</th>\n",
              "    </tr>\n",
              "  </thead>\n",
              "  <tbody>\n",
              "    <tr>\n",
              "      <th>1</th>\n",
              "      <td>UK: £18,000 (Total)International: £34,750 (Total)</td>\n",
              "    </tr>\n",
              "    <tr>\n",
              "      <th>5</th>\n",
              "      <td>UK: £13,750 (Total)International: £31,000 (Total)</td>\n",
              "    </tr>\n",
              "    <tr>\n",
              "      <th>7</th>\n",
              "      <td>Tuition fee per year (non-EU/EEA students): 15...</td>\n",
              "    </tr>\n",
              "    <tr>\n",
              "      <th>8</th>\n",
              "      <td>Tuition fee per year (non-EU/EEA students): 15...</td>\n",
              "    </tr>\n",
              "    <tr>\n",
              "      <th>9</th>\n",
              "      <td>UK: £12,500 (Total)International: £28,750 (Total)</td>\n",
              "    </tr>\n",
              "  </tbody>\n",
              "</table>\n",
              "</div>"
            ],
            "text/plain": [
              "                                                fees\n",
              "1  UK: £18,000 (Total)International: £34,750 (Total)\n",
              "5  UK: £13,750 (Total)International: £31,000 (Total)\n",
              "7  Tuition fee per year (non-EU/EEA students): 15...\n",
              "8  Tuition fee per year (non-EU/EEA students): 15...\n",
              "9  UK: £12,500 (Total)International: £28,750 (Total)"
            ]
          },
          "execution_count": 4,
          "metadata": {},
          "output_type": "execute_result"
        }
      ],
      "source": [
        "courses_df[courses_df['fees']!=''][['fees']].head(5)"
      ]
    },
    {
      "cell_type": "markdown",
      "source": [
        "Initially, I am extracting the numerical value of fees and keeping them in the fees column and creating a currency column to keep the currency symbol, to understand which currency fees is present in the row. I am doing all of this inside the extract_fees function and that I am applying to each row in the dataframe:"
      ],
      "metadata": {
        "id": "y8iWnZn-W1z5"
      }
    },
    {
      "cell_type": "code",
      "execution_count": null,
      "metadata": {
        "id": "Kvcg9HZSUmXN"
      },
      "outputs": [],
      "source": [
        "courses_df[['fees', 'currency']] = courses_df['fees'].apply(extract_fees).apply(pd.Series)"
      ]
    },
    {
      "cell_type": "code",
      "execution_count": null,
      "metadata": {
        "id": "OPi60_JnyHvj",
        "outputId": "d63119ea-3b64-4271-8f3b-a493f8a1e1d5"
      },
      "outputs": [
        {
          "data": {
            "text/html": [
              "<div>\n",
              "<style scoped>\n",
              "    .dataframe tbody tr th:only-of-type {\n",
              "        vertical-align: middle;\n",
              "    }\n",
              "\n",
              "    .dataframe tbody tr th {\n",
              "        vertical-align: top;\n",
              "    }\n",
              "\n",
              "    .dataframe thead th {\n",
              "        text-align: right;\n",
              "    }\n",
              "</style>\n",
              "<table border=\"1\" class=\"dataframe\">\n",
              "  <thead>\n",
              "    <tr style=\"text-align: right;\">\n",
              "      <th></th>\n",
              "      <th>fees</th>\n",
              "      <th>currency</th>\n",
              "    </tr>\n",
              "  </thead>\n",
              "  <tbody>\n",
              "    <tr>\n",
              "      <th>1</th>\n",
              "      <td>34750.0</td>\n",
              "      <td>£</td>\n",
              "    </tr>\n",
              "    <tr>\n",
              "      <th>5</th>\n",
              "      <td>31000.0</td>\n",
              "      <td>£</td>\n",
              "    </tr>\n",
              "    <tr>\n",
              "      <th>7</th>\n",
              "      <td>15000.0</td>\n",
              "      <td>€</td>\n",
              "    </tr>\n",
              "    <tr>\n",
              "      <th>8</th>\n",
              "      <td>15000.0</td>\n",
              "      <td>€</td>\n",
              "    </tr>\n",
              "    <tr>\n",
              "      <th>9</th>\n",
              "      <td>28750.0</td>\n",
              "      <td>£</td>\n",
              "    </tr>\n",
              "  </tbody>\n",
              "</table>\n",
              "</div>"
            ],
            "text/plain": [
              "      fees currency\n",
              "1  34750.0        £\n",
              "5  31000.0        £\n",
              "7  15000.0        €\n",
              "8  15000.0        €\n",
              "9  28750.0        £"
            ]
          },
          "execution_count": 12,
          "metadata": {},
          "output_type": "execute_result"
        }
      ],
      "source": [
        "courses_df[courses_df['fees'].notna()][['fees','currency']].head(5)"
      ]
    },
    {
      "cell_type": "markdown",
      "source": [
        "Now that I have the numeric values of the fees and the currency in the fees and currency column,I can convert the fees to a common currency. I am choosing Euro to be the common uniform currency for my case.\n",
        "\n",
        "My Idea- I am using the exchange-rates.com API in the function get__currency_rates_api to get the currency rates in terms of Euros in a dictionary which is kept inside exchange_rates. Since, the API wants me to insert the currency that I want to convert, but for that purpose, I will need to make 6000 different api calls if apply that to each individual row and my API key has a request limit for free access. So I am just inserting Euros and getting the inverted rates in each currencies as a dictionary. Thus, in the convert_currency function, I am dividing the amount by the rate (essentially the inverted rate) to get the value in my chosen common currency. In this way, I am just making one request for this API and getting my work of conversion done applying to each row of the dataframe. At the end, am keeping that in the fees(EUR) column."
      ],
      "metadata": {
        "id": "9dK7ADm-XRQX"
      }
    },
    {
      "cell_type": "code",
      "execution_count": null,
      "metadata": {
        "id": "Dj-PNaRSUmXN"
      },
      "outputs": [],
      "source": [
        "common_currency= 'EUR'\n",
        "exchange_rates=get__currency_rates_api(common_currency)"
      ]
    },
    {
      "cell_type": "code",
      "execution_count": null,
      "metadata": {
        "id": "a_OqZdYkUmXO"
      },
      "outputs": [],
      "source": [
        "# Apply the conversion to the 'fees' column in the DataFrame\n",
        "courses_df['fees (EUR)'] = courses_df.apply(lambda row: convert_currency(exchange_rates, row['fees'], row['currency']), axis=1)\n"
      ]
    },
    {
      "cell_type": "code",
      "execution_count": null,
      "metadata": {
        "id": "akmfhA_8yHvk",
        "outputId": "3e869bf3-b60c-43bb-cc42-3df12cfe5b1c"
      },
      "outputs": [
        {
          "data": {
            "text/html": [
              "<div>\n",
              "<style scoped>\n",
              "    .dataframe tbody tr th:only-of-type {\n",
              "        vertical-align: middle;\n",
              "    }\n",
              "\n",
              "    .dataframe tbody tr th {\n",
              "        vertical-align: top;\n",
              "    }\n",
              "\n",
              "    .dataframe thead th {\n",
              "        text-align: right;\n",
              "    }\n",
              "</style>\n",
              "<table border=\"1\" class=\"dataframe\">\n",
              "  <thead>\n",
              "    <tr style=\"text-align: right;\">\n",
              "      <th></th>\n",
              "      <th>fees</th>\n",
              "      <th>fees (EUR)</th>\n",
              "      <th>currency</th>\n",
              "    </tr>\n",
              "  </thead>\n",
              "  <tbody>\n",
              "    <tr>\n",
              "      <th>1</th>\n",
              "      <td>34750.0</td>\n",
              "      <td>39700.67</td>\n",
              "      <td>£</td>\n",
              "    </tr>\n",
              "    <tr>\n",
              "      <th>5</th>\n",
              "      <td>31000.0</td>\n",
              "      <td>35416.43</td>\n",
              "      <td>£</td>\n",
              "    </tr>\n",
              "    <tr>\n",
              "      <th>7</th>\n",
              "      <td>15000.0</td>\n",
              "      <td>15000.00</td>\n",
              "      <td>€</td>\n",
              "    </tr>\n",
              "    <tr>\n",
              "      <th>8</th>\n",
              "      <td>15000.0</td>\n",
              "      <td>15000.00</td>\n",
              "      <td>€</td>\n",
              "    </tr>\n",
              "    <tr>\n",
              "      <th>9</th>\n",
              "      <td>28750.0</td>\n",
              "      <td>32845.88</td>\n",
              "      <td>£</td>\n",
              "    </tr>\n",
              "  </tbody>\n",
              "</table>\n",
              "</div>"
            ],
            "text/plain": [
              "      fees fees (EUR) currency\n",
              "1  34750.0   39700.67        £\n",
              "5  31000.0   35416.43        £\n",
              "7  15000.0   15000.00        €\n",
              "8  15000.0   15000.00        €\n",
              "9  28750.0   32845.88        £"
            ]
          },
          "execution_count": 13,
          "metadata": {},
          "output_type": "execute_result"
        }
      ],
      "source": [
        "courses_df[courses_df['fees'].notna()][['fees','fees (EUR)','currency']].head(5)"
      ]
    },
    {
      "cell_type": "markdown",
      "source": [
        "As I have processed the dataframe to an extent, it is a safe idea to store the entire dataframe in a single TSV file so that, later on, I won't need to run the same code to make the dataframe but I can load it from the TSV file using pandas library."
      ],
      "metadata": {
        "id": "EX5zUOvzZGFz"
      }
    },
    {
      "cell_type": "code",
      "execution_count": null,
      "metadata": {
        "id": "QQ7AINakUmXO"
      },
      "outputs": [],
      "source": [
        "tsv_file_path = 'courses_data_processed.tsv'\n",
        "courses_df.to_csv(tsv_file_path, sep='\\t', index=False)"
      ]
    },
    {
      "cell_type": "markdown",
      "source": [
        "###2.1. Conjunctive query\n",
        "For the first version of the search engine, we narrowed our interest to the description of each course. It means that you will evaluate queries only concerning the course's description."
      ],
      "metadata": {
        "id": "wTrzMR_VZhf7"
      }
    },
    {
      "cell_type": "markdown",
      "source": [
        "####2.1.1) Create your index!\n",
        "Before building the index,\n",
        "\n",
        "Create a file named vocabulary, in the format you prefer, that maps each word to an integer (term_id).\n",
        "Then, the first brick of your homework is to create the Inverted Index."
      ],
      "metadata": {
        "id": "tqxpf7xKa9RQ"
      }
    },
    {
      "cell_type": "markdown",
      "metadata": {
        "id": "vsh71QJuUmXO"
      },
      "source": [
        "**Creating Vocabulary and saving it as vocabulary.txt**"
      ]
    },
    {
      "cell_type": "code",
      "execution_count": null,
      "metadata": {
        "id": "6PzibcmGUmXP"
      },
      "outputs": [],
      "source": [
        "# Create a set to store unique terms\n",
        "unique_terms = set()\n",
        "\n",
        "# Iterate through the DataFrame to collect unique terms\n",
        "for index, row in courses_df.iterrows():\n",
        "    stemmed_words = row[\"ProcessedDescription\"].split()\n",
        "    unique_terms.update(stemmed_words)\n",
        "\n",
        "# Create a vocabulary by assigning term_ids to unique terms\n",
        "vocabulary = {term: idx for idx, term in enumerate(unique_terms, start=1)}\n",
        "\n",
        "# Save the vocabulary to a text file\n",
        "with open(\"vocabulary.txt\", \"w\") as vocab_file:\n",
        "    for term, term_id in vocabulary.items():\n",
        "        vocab_file.write(f\"{term} {term_id}\\n\")\n"
      ]
    },
    {
      "cell_type": "markdown",
      "source": [
        "**Creating Inverted Index**"
      ],
      "metadata": {
        "id": "FMkw2SwnbbXg"
      }
    },
    {
      "cell_type": "code",
      "execution_count": null,
      "metadata": {
        "id": "uQLhOoSKUmXP"
      },
      "outputs": [],
      "source": [
        "from collections import defaultdict\n",
        "# Initialize an empty inverted index\n",
        "inverted_index = defaultdict(list)\n",
        "\n",
        "# Iterate through the DataFrame rows and update the inverted index\n",
        "for index, row in courses_df.iterrows():\n",
        "    stemmed_words = row[\"ProcessedDescription\"].split()\n",
        "    for term in stemmed_words:\n",
        "        term_id = vocabulary.get(term)  # Get the term_id from the vocabulary\n",
        "        if term_id is not None:\n",
        "            inverted_index[term_id].append(index)\n",
        "\n",
        "# Convert the defaultdict to a regular dictionary\n",
        "inverted_index = dict(inverted_index)"
      ]
    },
    {
      "cell_type": "code",
      "execution_count": null,
      "metadata": {
        "id": "s2oBAkZ9yHvl",
        "outputId": "88d8509e-dd88-438d-92aa-b34d4a857eac"
      },
      "outputs": [
        {
          "data": {
            "text/plain": [
              "7307"
            ]
          },
          "execution_count": 17,
          "metadata": {},
          "output_type": "execute_result"
        }
      ],
      "source": [
        "len(inverted_index)"
      ]
    },
    {
      "cell_type": "markdown",
      "source": [
        "**Saving the Inverted Index as inverted_index.json**"
      ],
      "metadata": {
        "id": "Bd0SOqpUbf07"
      }
    },
    {
      "cell_type": "code",
      "execution_count": null,
      "metadata": {
        "id": "hHhWMMahUmXQ"
      },
      "outputs": [],
      "source": [
        "# Save the inverted index to a JSON file\n",
        "import json\n",
        "with open(\"inverted_index.json\", \"w\") as index_file:\n",
        "    json.dump(inverted_index, index_file)"
      ]
    },
    {
      "cell_type": "markdown",
      "source": [
        "####2.1.2) Execute the query\n",
        "Given a query input by the user, for example:\n",
        "\n",
        "advanced knowledge"
      ],
      "metadata": {
        "id": "34sqiZmkbzu1"
      }
    },
    {
      "cell_type": "markdown",
      "metadata": {
        "id": "OdpU0-OwUmXQ"
      },
      "source": [
        "**Search Engine 1.0**"
      ]
    },
    {
      "cell_type": "markdown",
      "source": [
        "Loading the dataframe I had saved in the tsv file already:"
      ],
      "metadata": {
        "id": "x4_MBqxnb8V5"
      }
    },
    {
      "cell_type": "code",
      "execution_count": null,
      "metadata": {
        "id": "pXzN6J9tUmXQ"
      },
      "outputs": [],
      "source": [
        "courses_df=pd.read_csv('courses_data_processed.tsv',sep='\\t')"
      ]
    },
    {
      "cell_type": "markdown",
      "source": [
        "Loading the vocabulary and inverted_index that I saved before:"
      ],
      "metadata": {
        "id": "28zaS3dIcCXx"
      }
    },
    {
      "cell_type": "code",
      "execution_count": null,
      "metadata": {
        "id": "7jtjt3xCUmXQ"
      },
      "outputs": [],
      "source": [
        "import json\n",
        "\n",
        "# Load vocabulary from \"vocabulary.txt\"\n",
        "vocabulary = {}\n",
        "with open(\"vocabulary.txt\", \"r\") as vocab_file:\n",
        "    for line in vocab_file:\n",
        "        term, term_id = line.strip().split()\n",
        "        vocabulary[term] = int(term_id)\n",
        "\n",
        "# Load inverted index from \"inverted_index.json\"\n",
        "with open(\"inverted_index.json\", \"r\") as index_file:\n",
        "    inverted_index = json.load(index_file)\n"
      ]
    },
    {
      "cell_type": "markdown",
      "source": [
        "*In the searchEngine.py I have built the function 'conjunction_search'. The function takes the dataframe, vocabulary, inverted_index and the query as parameters. It processes the query using nltk library and then checks the presence of every word in the query using the vocabulary and inverted index and then returns the index values which have the query words conjunctively. At the end, I printed the result_df with the necessary information required.*"
      ],
      "metadata": {
        "id": "LagTjy-KcJ_S"
      }
    },
    {
      "cell_type": "code",
      "execution_count": null,
      "metadata": {
        "id": "_9THmFfHyHvm",
        "outputId": "b2b4f963-9329-4dc9-d3fb-8a69e917914a"
      },
      "outputs": [
        {
          "data": {
            "text/html": [
              "<div>\n",
              "<style scoped>\n",
              "    .dataframe tbody tr th:only-of-type {\n",
              "        vertical-align: middle;\n",
              "    }\n",
              "\n",
              "    .dataframe tbody tr th {\n",
              "        vertical-align: top;\n",
              "    }\n",
              "\n",
              "    .dataframe thead th {\n",
              "        text-align: right;\n",
              "    }\n",
              "</style>\n",
              "<table border=\"1\" class=\"dataframe\">\n",
              "  <thead>\n",
              "    <tr style=\"text-align: right;\">\n",
              "      <th></th>\n",
              "      <th>courseName</th>\n",
              "      <th>universityName</th>\n",
              "      <th>description</th>\n",
              "      <th>url</th>\n",
              "    </tr>\n",
              "  </thead>\n",
              "  <tbody>\n",
              "    <tr>\n",
              "      <th>4099</th>\n",
              "      <td>Global Meetings and Events Management MSc / PGDip</td>\n",
              "      <td>University College Birmingham</td>\n",
              "      <td>Become part of an events industry worth an est...</td>\n",
              "      <td>https://www.findamasters.com/masters-degrees/c...</td>\n",
              "    </tr>\n",
              "    <tr>\n",
              "      <th>2568</th>\n",
              "      <td>Dance Science MSc</td>\n",
              "      <td>University of Chichester</td>\n",
              "      <td>This suite of MSc programmes is designed for s...</td>\n",
              "      <td>https://www.findamasters.com/masters-degrees/c...</td>\n",
              "    </tr>\n",
              "    <tr>\n",
              "      <th>2569</th>\n",
              "      <td>Data Analysis for Business Intelligence - MSc</td>\n",
              "      <td>University of Leicester</td>\n",
              "      <td>The course is designed for students who want t...</td>\n",
              "      <td>https://www.findamasters.com/masters-degrees/c...</td>\n",
              "    </tr>\n",
              "    <tr>\n",
              "      <th>10</th>\n",
              "      <td>Analytical Toxicology MSc</td>\n",
              "      <td>King’s College London</td>\n",
              "      <td>The Analytical Toxicology MSc is a unique stud...</td>\n",
              "      <td>https://www.findamasters.com/masters-degrees/c...</td>\n",
              "    </tr>\n",
              "    <tr>\n",
              "      <th>522</th>\n",
              "      <td>Accounting and Finance - MSc</td>\n",
              "      <td>University of Sussex</td>\n",
              "      <td>On this MSc you’ll advance your accounting and...</td>\n",
              "      <td>https://www.findamasters.com/masters-degrees/c...</td>\n",
              "    </tr>\n",
              "    <tr>\n",
              "      <th>...</th>\n",
              "      <td>...</td>\n",
              "      <td>...</td>\n",
              "      <td>...</td>\n",
              "      <td>...</td>\n",
              "    </tr>\n",
              "    <tr>\n",
              "      <th>2540</th>\n",
              "      <td>Cyber Security MSc</td>\n",
              "      <td>Keele University</td>\n",
              "      <td>IT systems are a vital part of every company's...</td>\n",
              "      <td>https://www.findamasters.com/masters-degrees/c...</td>\n",
              "    </tr>\n",
              "    <tr>\n",
              "      <th>4590</th>\n",
              "      <td>Intelligent Transport Planning and Engineering...</td>\n",
              "      <td>University of East London</td>\n",
              "      <td>The programme is designed to meet the increasi...</td>\n",
              "      <td>https://www.findamasters.com/masters-degrees/c...</td>\n",
              "    </tr>\n",
              "    <tr>\n",
              "      <th>495</th>\n",
              "      <td>(MSc/PGDip/PGCert) - Advanced Clinical Practic...</td>\n",
              "      <td>University of Warwick</td>\n",
              "      <td>Imagine if you had the confidence to react mor...</td>\n",
              "      <td>https://www.findamasters.com/masters-degrees/c...</td>\n",
              "    </tr>\n",
              "    <tr>\n",
              "      <th>2037</th>\n",
              "      <td>Clinical Pharmacy - MSc</td>\n",
              "      <td>University of Sunderland</td>\n",
              "      <td>The Clinical Pharmacy MSc has been designed to...</td>\n",
              "      <td>https://www.findamasters.com/masters-degrees/c...</td>\n",
              "    </tr>\n",
              "    <tr>\n",
              "      <th>1529</th>\n",
              "      <td>Biomedical Science (Medical Immunology) MSc</td>\n",
              "      <td>Middlesex University</td>\n",
              "      <td>This master's programme will allow you to deve...</td>\n",
              "      <td>https://www.findamasters.com/masters-degrees/c...</td>\n",
              "    </tr>\n",
              "  </tbody>\n",
              "</table>\n",
              "<p>228 rows × 4 columns</p>\n",
              "</div>"
            ],
            "text/plain": [
              "                                             courseName  \\\n",
              "4099  Global Meetings and Events Management MSc / PGDip   \n",
              "2568                                  Dance Science MSc   \n",
              "2569      Data Analysis for Business Intelligence - MSc   \n",
              "10                            Analytical Toxicology MSc   \n",
              "522                        Accounting and Finance - MSc   \n",
              "...                                                 ...   \n",
              "2540                                 Cyber Security MSc   \n",
              "4590  Intelligent Transport Planning and Engineering...   \n",
              "495   (MSc/PGDip/PGCert) - Advanced Clinical Practic...   \n",
              "2037                            Clinical Pharmacy - MSc   \n",
              "1529        Biomedical Science (Medical Immunology) MSc   \n",
              "\n",
              "                     universityName  \\\n",
              "4099  University College Birmingham   \n",
              "2568       University of Chichester   \n",
              "2569        University of Leicester   \n",
              "10            King’s College London   \n",
              "522            University of Sussex   \n",
              "...                             ...   \n",
              "2540               Keele University   \n",
              "4590      University of East London   \n",
              "495           University of Warwick   \n",
              "2037       University of Sunderland   \n",
              "1529           Middlesex University   \n",
              "\n",
              "                                            description  \\\n",
              "4099  Become part of an events industry worth an est...   \n",
              "2568  This suite of MSc programmes is designed for s...   \n",
              "2569  The course is designed for students who want t...   \n",
              "10    The Analytical Toxicology MSc is a unique stud...   \n",
              "522   On this MSc you’ll advance your accounting and...   \n",
              "...                                                 ...   \n",
              "2540  IT systems are a vital part of every company's...   \n",
              "4590  The programme is designed to meet the increasi...   \n",
              "495   Imagine if you had the confidence to react mor...   \n",
              "2037  The Clinical Pharmacy MSc has been designed to...   \n",
              "1529  This master's programme will allow you to deve...   \n",
              "\n",
              "                                                    url  \n",
              "4099  https://www.findamasters.com/masters-degrees/c...  \n",
              "2568  https://www.findamasters.com/masters-degrees/c...  \n",
              "2569  https://www.findamasters.com/masters-degrees/c...  \n",
              "10    https://www.findamasters.com/masters-degrees/c...  \n",
              "522   https://www.findamasters.com/masters-degrees/c...  \n",
              "...                                                 ...  \n",
              "2540  https://www.findamasters.com/masters-degrees/c...  \n",
              "4590  https://www.findamasters.com/masters-degrees/c...  \n",
              "495   https://www.findamasters.com/masters-degrees/c...  \n",
              "2037  https://www.findamasters.com/masters-degrees/c...  \n",
              "1529  https://www.findamasters.com/masters-degrees/c...  \n",
              "\n",
              "[228 rows x 4 columns]"
            ]
          },
          "execution_count": 21,
          "metadata": {},
          "output_type": "execute_result"
        }
      ],
      "source": [
        "query = \"advanced knowledge\"\n",
        "\n",
        "# Search for the query and get the matching DataFrame\n",
        "result_df = conjunction_search(courses_df, vocabulary, inverted_index, query)\n",
        "\n",
        "# Print the result DataFrame\n",
        "result_df[['courseName','universityName','description','url']]"
      ]
    },
    {
      "cell_type": "code",
      "execution_count": null,
      "metadata": {
        "id": "UiJnavsCyHvm",
        "outputId": "e0610b7f-db19-4ca0-b3bc-aea7f32f4d7d"
      },
      "outputs": [
        {
          "name": "stdout",
          "output_type": "stream",
          "text": [
            "The Analytical Toxicology MSc is a unique study course that integrates theoretical and practical aspects of analytical science with clinical and forensic toxicology. This course will provide you with a detailed knowledge and comprehensive understanding of advanced analytical toxicology and its applications.\n"
          ]
        }
      ],
      "source": [
        "print(result_df.loc[10,'description'])"
      ]
    }
  ],
  "metadata": {
    "kernelspec": {
      "display_name": "Python 3",
      "language": "python",
      "name": "python3"
    },
    "language_info": {
      "codemirror_mode": {
        "name": "ipython",
        "version": 3
      },
      "file_extension": ".py",
      "mimetype": "text/x-python",
      "name": "python",
      "nbconvert_exporter": "python",
      "pygments_lexer": "ipython3",
      "version": "3.11.4"
    },
    "orig_nbformat": 4,
    "colab": {
      "provenance": []
    }
  },
  "nbformat": 4,
  "nbformat_minor": 0
}